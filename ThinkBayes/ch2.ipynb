{
 "cells": [
  {
   "cell_type": "code",
   "execution_count": 98,
   "metadata": {
    "collapsed": true
   },
   "outputs": [],
   "source": [
    "import sys as sys\n",
    "sys.path.append('/home/ubuntu/ThinkBayes2/code')\n",
    "from thinkbayes2 import Pmf \n",
    "import thinkplot\n",
    "\n",
    "%matplotlib inline\n",
    "\n",
    "import matplotlib\n",
    "import numpy as np\n",
    "import matplotlib.pyplot as plt"
   ]
  },
  {
   "cell_type": "code",
   "execution_count": 24,
   "metadata": {
    "collapsed": true
   },
   "outputs": [],
   "source": [
    "# Cookie Problem\n",
    "# Bowl 1 contains 30 vanilla cookies and 10 chocolate\n",
    "# Bowl 2 contains 20 vanilla cookies and 20 chocolate\n",
    "# choose a bowl at random, draw a vanilla cookie. What is the probability is is bowl 1\n",
    "# in his example, the author creates a probability mass function that starts as the probabilities of selecting a bowl\n",
    "# this is the prior\n",
    "pmf = Pmf()\n",
    "pmf.Set('Bowl 1',0.5)\n",
    "pmf.Set('Bowl 2',0.5)"
   ]
  },
  {
   "cell_type": "code",
   "execution_count": 25,
   "metadata": {
    "collapsed": true
   },
   "outputs": [],
   "source": [
    "# the author then creates the liklihood by multiplying the prior by the p(vanilla|bowl x)\n",
    "pmf.Mult('Bowl 1',0.75) \n",
    "pmf.Mult('Bowl 2',0.5)"
   ]
  },
  {
   "cell_type": "code",
   "execution_count": 26,
   "metadata": {},
   "outputs": [
    {
     "data": {
      "text/plain": [
       "<bound method _DictWrapper.Print of Pmf({'Bowl 1': 0.375, 'Bowl 2': 0.25})>"
      ]
     },
     "execution_count": 26,
     "metadata": {},
     "output_type": "execute_result"
    }
   ],
   "source": [
    "pmf.Print"
   ]
  },
  {
   "cell_type": "code",
   "execution_count": 28,
   "metadata": {},
   "outputs": [
    {
     "name": "stdout",
     "output_type": "stream",
     "text": [
      "the posterior distribution is\n"
     ]
    },
    {
     "data": {
      "text/plain": [
       "<bound method _DictWrapper.Print of Pmf({'Bowl 1': 0.6000000000000001, 'Bowl 2': 0.4})>"
      ]
     },
     "execution_count": 28,
     "metadata": {},
     "output_type": "execute_result"
    }
   ],
   "source": [
    "# to complete bayes, you need to divide by the probabilities of all the ways you get vanilla\n",
    "# in this case, that is p(v | bowl1) + p(V | bowl2), which are, in this case values we already computed.\n",
    "# 'normalizing' does the same thing operation (dividing all the entries of the pmf by the sum of the values)\n",
    "pmf.Normalize()\n",
    "print('the posterior distribution is')\n",
    "pmf.Print"
   ]
  },
  {
   "cell_type": "code",
   "execution_count": 32,
   "metadata": {},
   "outputs": [
    {
     "name": "stdout",
     "output_type": "stream",
     "text": [
      "A 0.3333333333333333\n",
      "B 0.0\n",
      "C 0.6666666666666666\n"
     ]
    }
   ],
   "source": [
    "# Monty Hall problem: In his example, there are 3 doors. You choose door A, Monty must then reveal either B or C\n",
    "# In this example, he chooses B which reveals no car.\n",
    "# You would like the pmf of the remaining doors.\n",
    "\n",
    "# try the monty problem using the author's Suite, you need to provide a likelihood function\n",
    "# recall, likelihood is P(D|H)\n",
    "from thinkbayes2 import Suite\n",
    "\n",
    "class Monty(Suite):\n",
    "    def Likelihood(self,data, hypo):\n",
    "        # hypo here is which door, A, B or C\n",
    "        # Data is the door Monty chooses. I think this is written such than he can choose B or C\n",
    "        if hypo == data:\n",
    "            return 0\n",
    "        elif hypo == 'A':\n",
    "            return 0.5\n",
    "        else:\n",
    "            return 1\n",
    "        \n",
    "suite = Monty('ABC')\n",
    "suite.Update('B')\n",
    "suite.Print()\n"
   ]
  },
  {
   "cell_type": "code",
   "execution_count": 47,
   "metadata": {},
   "outputs": [
    {
     "name": "stdout",
     "output_type": "stream",
     "text": [
      "A 0.5\n",
      "B 0.5\n",
      "A 0.5882352941176471\n",
      "B 0.4117647058823529\n",
      "A 0.7407407407407407\n",
      "B 0.2592592592592592\n",
      "A 0.8032128514056225\n",
      "B 0.1967871485943775\n",
      "A 0.0\n",
      "B 1.0\n"
     ]
    }
   ],
   "source": [
    "# M&M problem: we have two bags of M&M's with varying numbers of each color, one from 1994, one from 1996\n",
    "class M_and_M(Suite):\n",
    "    mix94=dict(brown=30,yellow=20,red=20,green=10,orange=10,tan=10)\n",
    "    mix96=dict(blue=24,green=20,orange=16,yellow=14,red=13,brown=13)\n",
    "    hypoA=dict(bag1=mix94, bag2=mix96)\n",
    "    hypoB=dict(bag1=mix96, bag2=mix94)\n",
    "    hypotheses = dict(A=hypoA, B=hypoB)\n",
    "    \n",
    "    def Likelihood(self,data,hypo):\n",
    "        bag,color = data\n",
    "        mix = self.hypotheses[hypo][bag]\n",
    "        if color in mix:\n",
    "            like = mix[color]\n",
    "        else:\n",
    "            like = 0.0\n",
    "        #print(color,like)\n",
    "        return like\n",
    "\n",
    "suite = M_and_M('AB')\n",
    "suite.Print()\n",
    "suite.Update(('bag1','yellow'))\n",
    "suite.Print()\n",
    "suite.Update(('bag2','green'))\n",
    "suite.Print()\n",
    "suite.Update(('bag1','yellow'))\n",
    "suite.Print()\n",
    "suite.Update(('bag1','blue'))\n",
    "suite.Print()"
   ]
  },
  {
   "cell_type": "code",
   "execution_count": 49,
   "metadata": {},
   "outputs": [
    {
     "name": "stdout",
     "output_type": "stream",
     "text": [
      "4 0.2\n",
      "6 0.2\n",
      "8 0.2\n",
      "12 0.2\n",
      "20 0.2\n",
      "4 0.0\n",
      "6 0.3921568627450981\n",
      "8 0.29411764705882354\n",
      "12 0.19607843137254904\n",
      "20 0.11764705882352944\n"
     ]
    }
   ],
   "source": [
    "#dice problem:\n",
    "\n",
    "class Dice(Suite):\n",
    "    def Likelihood(self,data, hypo):\n",
    "        if hypo < data:\n",
    "            return 0\n",
    "        else:\n",
    "            return 1.0/hypo\n",
    "suite = Dice([4,6,8,12,20])\n",
    "suite.Print()\n",
    "suite.Update(6)\n",
    "suite.Print()"
   ]
  },
  {
   "cell_type": "code",
   "execution_count": 68,
   "metadata": {},
   "outputs": [
    {
     "data": {
      "text/plain": [
       "0.05"
      ]
     },
     "execution_count": 68,
     "metadata": {},
     "output_type": "execute_result"
    }
   ],
   "source": [
    "suite.Update(1)\n"
   ]
  },
  {
   "cell_type": "code",
   "execution_count": 69,
   "metadata": {},
   "outputs": [
    {
     "name": "stdout",
     "output_type": "stream",
     "text": [
      "4 0.0\n",
      "6 0.0\n",
      "8 0.0\n",
      "12 0.0\n",
      "20 1.0\n"
     ]
    }
   ],
   "source": [
    "suite.Print()"
   ]
  },
  {
   "cell_type": "code",
   "execution_count": 86,
   "metadata": {},
   "outputs": [
    {
     "name": "stdout",
     "output_type": "stream",
     "text": [
      "50.0\n",
      "77.79471110442536\n",
      "76.10443458712732\n",
      "99.0\n"
     ]
    }
   ],
   "source": [
    "#railroad problem: a railroad numbers its locamotives 1..N. \n",
    "#One day yhou see a locamotive with the number 60. Estimate how many locamotives the railroad has\n",
    "# unique becuase you have no idea how big N is.. so start with a guess! Now we're basian!\n",
    "class Train(Suite):\n",
    "    def Likelihood(self,data,hypo):\n",
    "        if hypo < data:\n",
    "            return 0\n",
    "        else:\n",
    "            return 1.0/hypo\n",
    "    def Mean(Suite):\n",
    "        total = 0\n",
    "        for hypo, prob in suite.Items():\n",
    "            total += hypo * prob\n",
    "        return total\n",
    "            \n",
    "suite = Train(range(1,100))\n",
    "print (suite.Mean())\n",
    "suite.Update(60)\n",
    "print (suite.Mean())\n",
    "suite.Update(20)\n",
    "print (suite.Mean())\n",
    "suite.Update(99)\n",
    "print (suite.Mean())\n",
    "#suite.Update(120)  # can't do this - should write better routines to update prior\n",
    "#print (suite.Mean())\n"
   ]
  },
  {
   "cell_type": "code",
   "execution_count": 94,
   "metadata": {
    "collapsed": true
   },
   "outputs": [],
   "source": [
    "# biased coin\n",
    "# a coin is flipped 250 times, 140 times it comes up heads, 110 tails. What is the probability it is biased?\n",
    "\n",
    "class Coin(Suite):\n",
    "    def Likelihood(self,data,hypo):\n",
    "        # here, hypo is the hypothesised bias\n",
    "        if data == 'H':\n",
    "            return hypo/100.0\n",
    "        else:\n",
    "            return 1 - hypo/100.0\n",
    "suite = Coin(range(0,101))\n",
    "dataset = 'H'*140 + 'T' * 110\n",
    "for data in dataset:\n",
    "    suite.Update(data)"
   ]
  },
  {
   "cell_type": "code",
   "execution_count": 121,
   "metadata": {},
   "outputs": [
    {
     "data": {
      "text/plain": [
       "56"
      ]
     },
     "execution_count": 121,
     "metadata": {},
     "output_type": "execute_result"
    },
    {
     "data": {
      "image/png": "[encoded data removed]",
      "text/plain": [
       "<matplotlib.figure.Figure at 0x7f0d226f3c18>"
      ]
     },
     "metadata": {},
     "output_type": "display_data"
    }
   ],
   "source": [
    "# plot the pmf, this will show the most likely bias point\n",
    "plt.plot(range(0,101),[suite.d[x] for x in suite.d])\n",
    "suite.MaximumLikelihood()"
   ]
  },
  {
   "cell_type": "code",
   "execution_count": 119,
   "metadata": {},
   "outputs": [
    {
     "data": {
      "text/plain": [
       "56"
      ]
     },
     "execution_count": 119,
     "metadata": {},
     "output_type": "execute_result"
    }
   ],
   "source": []
  },
  {
   "cell_type": "code",
   "execution_count": 122,
   "metadata": {
    "collapsed": true
   },
   "outputs": [],
   "source": [
    "a=np.ones((32,32,3))"
   ]
  },
  {
   "cell_type": "code",
   "execution_count": 126,
   "metadata": {},
   "outputs": [
    {
     "name": "stdout",
     "output_type": "stream",
     "text": [
      "(32, 32, 3)\n"
     ]
    }
   ],
   "source": [
    "print(a.shape)\n",
    "\n"
   ]
  },
  {
   "cell_type": "code",
   "execution_count": 125,
   "metadata": {
    "collapsed": true
   },
   "outputs": [],
   "source": [
    "b=a.reshape(32*32*3,1)"
   ]
  },
  {
   "cell_type": "code",
   "execution_count": 127,
   "metadata": {},
   "outputs": [
    {
     "name": "stdout",
     "output_type": "stream",
     "text": [
      "(3072, 1)\n"
     ]
    }
   ],
   "source": [
    "print(b.shape)"
   ]
  },
  {
   "cell_type": "code",
   "execution_count": 128,
   "metadata": {
    "collapsed": true
   },
   "outputs": [],
   "source": [
    "a = np.random.randn(2, 3) # a.shape = (2, 3)\n",
    "b = np.random.randn(2, 1) # b.shape = (2, 1)\n",
    "c = a + b"
   ]
  },
  {
   "cell_type": "code",
   "execution_count": 129,
   "metadata": {},
   "outputs": [
    {
     "data": {
      "text/plain": [
       "(2, 3)"
      ]
     },
     "execution_count": 129,
     "metadata": {},
     "output_type": "execute_result"
    }
   ],
   "source": [
    "c.shape"
   ]
  },
  {
   "cell_type": "code",
   "execution_count": 130,
   "metadata": {},
   "outputs": [
    {
     "ename": "ValueError",
     "evalue": "operands could not be broadcast together with shapes (4,3) (3,2) ",
     "output_type": "error",
     "traceback": [
      "\u001b[0;31m---------------------------------------------------------------------------\u001b[0m",
      "\u001b[0;31mValueError\u001b[0m                                Traceback (most recent call last)",
      "\u001b[0;32m<ipython-input-130-4bd2cd4ebeba>\u001b[0m in \u001b[0;36m<module>\u001b[0;34m()\u001b[0m\n\u001b[1;32m      1\u001b[0m \u001b[0ma\u001b[0m \u001b[0;34m=\u001b[0m \u001b[0mnp\u001b[0m\u001b[0;34m.\u001b[0m\u001b[0mrandom\u001b[0m\u001b[0;34m.\u001b[0m\u001b[0mrandn\u001b[0m\u001b[0;34m(\u001b[0m\u001b[0;36m4\u001b[0m\u001b[0;34m,\u001b[0m \u001b[0;36m3\u001b[0m\u001b[0;34m)\u001b[0m \u001b[0;31m# a.shape = (4, 3)\u001b[0m\u001b[0;34m\u001b[0m\u001b[0m\n\u001b[1;32m      2\u001b[0m \u001b[0mb\u001b[0m \u001b[0;34m=\u001b[0m \u001b[0mnp\u001b[0m\u001b[0;34m.\u001b[0m\u001b[0mrandom\u001b[0m\u001b[0;34m.\u001b[0m\u001b[0mrandn\u001b[0m\u001b[0;34m(\u001b[0m\u001b[0;36m3\u001b[0m\u001b[0;34m,\u001b[0m \u001b[0;36m2\u001b[0m\u001b[0;34m)\u001b[0m \u001b[0;31m# b.shape = (3, 2)\u001b[0m\u001b[0;34m\u001b[0m\u001b[0m\n\u001b[0;32m----> 3\u001b[0;31m \u001b[0mc\u001b[0m \u001b[0;34m=\u001b[0m \u001b[0ma\u001b[0m\u001b[0;34m*\u001b[0m\u001b[0mb\u001b[0m\u001b[0;34m\u001b[0m\u001b[0m\n\u001b[0m",
      "\u001b[0;31mValueError\u001b[0m: operands could not be broadcast together with shapes (4,3) (3,2) "
     ]
    }
   ],
   "source": [
    "a = np.random.randn(4, 3) # a.shape = (4, 3)\n",
    "b = np.random.randn(3, 2) # b.shape = (3, 2)\n",
    "c = a*b"
   ]
  },
  {
   "cell_type": "code",
   "execution_count": 131,
   "metadata": {
    "collapsed": true
   },
   "outputs": [],
   "source": [
    "a = np.random.randn(12288, 150) # a.shape = (12288, 150)\n",
    "b = np.random.randn(150, 45) # b.shape = (150, 45)\n",
    "c = np.dot(a,b)"
   ]
  },
  {
   "cell_type": "code",
   "execution_count": 132,
   "metadata": {},
   "outputs": [
    {
     "data": {
      "text/plain": [
       "(12288, 45)"
      ]
     },
     "execution_count": 132,
     "metadata": {},
     "output_type": "execute_result"
    }
   ],
   "source": [
    "c.shape"
   ]
  },
  {
   "cell_type": "code",
   "execution_count": 146,
   "metadata": {},
   "outputs": [
    {
     "name": "stdout",
     "output_type": "stream",
     "text": [
      "(3, 4)\n",
      "[[   4.    6.    8.   10.]\n",
      " [  13.   24.   35.   46.]\n",
      " [ 103.  204.  305.  406.]]\n",
      "[[  4   6   8  10]\n",
      " [ 13  24  35  46]\n",
      " [103 204 305 406]]\n"
     ]
    }
   ],
   "source": [
    "# a.shape = (3,4)\n",
    "# b.shape = (4,1)\n",
    "a = np.random.randn(3, 4) \n",
    "#b = np.random.randn(4, 1) \n",
    "a = np.array([[1,2,3,4],[10,20,30,40],[100,200,300,400]])\n",
    "b = np.array([[3],[4],[5],[6]])\n",
    "c = np.zeros((3,4))\n",
    "for i in range(3):\n",
    "  for j in range(4):\n",
    "    c[i][j] = a[i][j] + b[j]\n",
    "print(c.shape)\n",
    "print(c)\n",
    "d=a+b.T\n",
    "print(d)"
   ]
  },
  {
   "cell_type": "code",
   "execution_count": 150,
   "metadata": {},
   "outputs": [
    {
     "name": "stdout",
     "output_type": "stream",
     "text": [
      "[[   3    6    9]\n",
      " [  40   80  120]\n",
      " [ 500 1000 1500]]\n"
     ]
    }
   ],
   "source": [
    "a = np.random.randn(3, 3)\n",
    "b = np.random.randn(3, 1)\n",
    "a = np.array([[1,2,3],[10,20,30],[100,200,300]])\n",
    "b = np.array([[3],[4],[5]])\n",
    "\n",
    "c = a*b\n",
    "print(c)"
   ]
  },
  {
   "cell_type": "code",
   "execution_count": 153,
   "metadata": {},
   "outputs": [
    {
     "name": "stdout",
     "output_type": "stream",
     "text": [
      "(4, 1)\n"
     ]
    }
   ],
   "source": [
    "A = np.random.randn(4,3)\n",
    "B = np.sum(A, axis = 1, keepdims = True)\n",
    "print(B.shape)"
   ]
  },
  {
   "cell_type": "code",
   "execution_count": null,
   "metadata": {
    "collapsed": true
   },
   "outputs": [],
   "source": []
  }
 ],
 "metadata": {
  "kernelspec": {
   "display_name": "Python 3",
   "language": "python",
   "name": "python3"
  },
  "language_info": {
   "codemirror_mode": {
    "name": "ipython",
    "version": 3
   },
   "file_extension": ".py",
   "mimetype": "text/x-python",
   "name": "python",
   "nbconvert_exporter": "python",
   "pygments_lexer": "ipython3",
   "version": "3.6.1"
  }
 },
 "nbformat": 4,
 "nbformat_minor": 2
}
