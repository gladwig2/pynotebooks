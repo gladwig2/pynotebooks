{
 "cells": [
  {
   "cell_type": "code",
   "execution_count": 1,
   "metadata": {
    "collapsed": true
   },
   "outputs": [],
   "source": [
    "# this is a companion to my probability book (Papoulis)\n",
    "#\n",
    "# first problem, example 1-4\n",
    "# there are m boxes and n particles, m>n\n",
    "# preselect n boxes\n",
    "# randomly place all n particles in boxes\n",
    "# what is the probility that \"in n preselected boxes, one and only one particle will be found\""
   ]
  },
  {
   "cell_type": "code",
   "execution_count": 91,
   "metadata": {},
   "outputs": [
    {
     "name": "stdout",
     "output_type": "stream",
     "text": [
      "0.003638\n"
     ]
    }
   ],
   "source": [
    "from random import randint\n",
    "from math import factorial\n",
    "n = 5\n",
    "m = 8\n",
    "ar = [0] * m\n",
    "trials = 1000000\n",
    "totones = 0\n",
    "\n",
    "for t in range(0,trials):\n",
    "    for i in range(0,m):\n",
    "        ar[i] = 0\n",
    "    for i in range(0,n):\n",
    "        r = randint(0,m-1)\n",
    "        ar[r] += 1\n",
    "    #print(ar)\n",
    "    allones = 1\n",
    "    for i in range(0,n):\n",
    "        if ar[i] != 1:\n",
    "            allones = 0\n",
    "    totones += allones\n",
    "p = totones/trials\n",
    "print(p)\n"
   ]
  },
  {
   "cell_type": "code",
   "execution_count": 84,
   "metadata": {},
   "outputs": [
    {
     "name": "stdout",
     "output_type": "stream",
     "text": [
      "0.015625\n",
      "0.017578125\n",
      "0.017822265625\n",
      "0.0001319527024215006\n"
     ]
    }
   ],
   "source": [
    "#wrong\n",
    "p1 = 0.\n",
    "for i in range(2,n+1):\n",
    "    p1 += 1/(m**i)\n",
    "    print (p1)\n",
    "p1 = 1/m - p1\n",
    "print(p1**n)"
   ]
  },
  {
   "cell_type": "code",
   "execution_count": 85,
   "metadata": {},
   "outputs": [
    {
     "name": "stdout",
     "output_type": "stream",
     "text": [
      "0.0095367431640625\n"
     ]
    }
   ],
   "source": [
    "#wrong\n",
    "p2 = 0.\n",
    "for i in range(2,n+1):\n",
    "    p2 += (n**i)/(m**i)\n",
    "p2 = 1/m - p2\n",
    "print(p2**n)"
   ]
  },
  {
   "cell_type": "code",
   "execution_count": 90,
   "metadata": {},
   "outputs": [
    {
     "name": "stdout",
     "output_type": "stream",
     "text": [
      "0.003662109375\n"
     ]
    }
   ],
   "source": [
    "#right\n",
    "p3 = factorial(n)/m**n\n",
    "print(p3)"
   ]
  },
  {
   "cell_type": "code",
   "execution_count": 92,
   "metadata": {},
   "outputs": [
    {
     "name": "stdout",
     "output_type": "stream",
     "text": [
      "2.4109374999999825e-05\n"
     ]
    }
   ],
   "source": [
    "print(p3 - p)"
   ]
  },
  {
   "cell_type": "code",
   "execution_count": null,
   "metadata": {
    "collapsed": true
   },
   "outputs": [],
   "source": [
    "# in statistics/prob, a bernoulli (or binomial) trial has two possible outcomes (success/fail or heads/tails)"
   ]
  },
  {
   "cell_type": "code",
   "execution_count": 93,
   "metadata": {
    "collapsed": true
   },
   "outputs": [],
   "source": [
    "# try some bernoulli trials (n choose k stuff)\n",
    "def berni(n,k):\n",
    "    return(factorial(n)/(factorial(k)*factorial(n-k)))\n"
   ]
  },
  {
   "cell_type": "code",
   "execution_count": 97,
   "metadata": {},
   "outputs": [
    {
     "name": "stdout",
     "output_type": "stream",
     "text": [
      "0.375 0.375\n"
     ]
    }
   ],
   "source": [
    "# n trials of coin flip with pheads = p and ptails = 1-p = q\n",
    "p = 0.5\n",
    "q = 0.5\n",
    "# find probability of k heads in n trials in any order\n",
    "n = 3\n",
    "k = 2\n",
    "pk = berni(n,k)*p**k*q**(n-k)\n",
    "print(pk, 3*0.5**3)\n"
   ]
  },
  {
   "cell_type": "code",
   "execution_count": null,
   "metadata": {
    "collapsed": true
   },
   "outputs": [],
   "source": []
  },
  {
   "cell_type": "code",
   "execution_count": null,
   "metadata": {
    "collapsed": true
   },
   "outputs": [],
   "source": []
  }
 ],
 "metadata": {
  "kernelspec": {
   "display_name": "Python 3",
   "language": "python",
   "name": "python3"
  },
  "language_info": {
   "codemirror_mode": {
    "name": "ipython",
    "version": 3
   },
   "file_extension": ".py",
   "mimetype": "text/x-python",
   "name": "python",
   "nbconvert_exporter": "python",
   "pygments_lexer": "ipython3",
   "version": "3.6.1"
  }
 },
 "nbformat": 4,
 "nbformat_minor": 2
}
