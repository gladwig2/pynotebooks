{
 "cells": [
  {
   "cell_type": "code",
   "execution_count": 1,
   "metadata": {
    "collapsed": true
   },
   "outputs": [],
   "source": [
    "# this is a companion to my probability book (Papoulis)\n",
    "#\n",
    "# first problem, example 1-4\n",
    "# there are m boxes and n particles, m>n\n",
    "# preselect n boxes\n",
    "# randomly place all n particles in boxes\n",
    "# what is the probility that \"in n preselected boxes, one and only one particle will be found\""
   ]
  },
  {
   "cell_type": "code",
   "execution_count": 16,
   "metadata": {},
   "outputs": [
    {
     "name": "stdout",
     "output_type": "stream",
     "text": [
      "[0, 1, 1, 0, 0, 0, 1, 1]\n"
     ]
    }
   ],
   "source": [
    "from random import randint\n",
    "n = 4\n",
    "m = 8\n",
    "p1 = 0\n",
    "p2 = 0\n",
    "ar = [0] * m\n",
    "\n",
    "for t in range(0,1):\n",
    "    for i in range(0,n):\n",
    "        r = randint(0,m-1)\n",
    "        ar[r] += 1\n",
    "print(ar)\n",
    "for i in range(2,n):\n",
    "    p1 += 1/(m^(i))"
   ]
  },
  {
   "cell_type": "code",
   "execution_count": null,
   "metadata": {
    "collapsed": true
   },
   "outputs": [],
   "source": []
  },
  {
   "cell_type": "code",
   "execution_count": null,
   "metadata": {
    "collapsed": true
   },
   "outputs": [],
   "source": []
  }
 ],
 "metadata": {
  "kernelspec": {
   "display_name": "Python 3",
   "language": "python",
   "name": "python3"
  },
  "language_info": {
   "codemirror_mode": {
    "name": "ipython",
    "version": 3
   },
   "file_extension": ".py",
   "mimetype": "text/x-python",
   "name": "python",
   "nbconvert_exporter": "python",
   "pygments_lexer": "ipython3",
   "version": "3.6.1"
  }
 },
 "nbformat": 4,
 "nbformat_minor": 2
}
