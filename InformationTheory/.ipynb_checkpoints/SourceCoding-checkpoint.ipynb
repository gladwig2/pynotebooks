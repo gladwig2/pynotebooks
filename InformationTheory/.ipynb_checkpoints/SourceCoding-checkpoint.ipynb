{
 "cells": [
  {
   "cell_type": "markdown",
   "metadata": {},
   "source": [
    "# six sided die "
   ]
  },
  {
   "cell_type": "code",
   "execution_count": null,
   "metadata": {
    "collapsed": true
   },
   "outputs": [],
   "source": [
    "# a die is the 'source' in this example. Each roll produces a number 1 through 6.\n",
    "# this works out as you will see, to 2.59 information bits per roll,or bits per symbol, its entropy\n",
    "# note that an 8 sided die would produce 3 bits."
   ]
  },
  {
   "cell_type": "code",
   "execution_count": 32,
   "metadata": {},
   "outputs": [
    {
     "name": "stdout",
     "output_type": "stream",
     "text": [
      "2.58496250072 2.58496250072 0.0\n"
     ]
    }
   ],
   "source": [
    "import numpy as np\n",
    "import pandas as pd\n",
    "import scipy.stats as sc\n",
    "\n",
    "def entropy2(p):\n",
    "    h = 0;\n",
    "    for pk in p:\n",
    "        h = h + pk * np.log2(1/pk)\n",
    "    return(h)\n",
    "\n",
    "a = np.ones(6) * 1./6\n",
    "h = entropy2(a)\n",
    "\n",
    "h2 = sc.entropy(a,base=2)\n",
    "print(h, h2, h-h2)"
   ]
  },
  {
   "cell_type": "markdown",
   "metadata": {},
   "source": [
    "# Examine optimal Source Coding"
   ]
  },
  {
   "cell_type": "code",
   "execution_count": null,
   "metadata": {
    "collapsed": true
   },
   "outputs": [],
   "source": [
    "# Shannon's(the fundamental theorem for a noiseless channel, section 9)\n",
    "# says that for a source with an entropy of H bits/symbol and a channel with a capacity C bits/Second, \n",
    "# there is a source coding that can achieve a rate of C/H-epsilon Symbols/s, where epsilon is arbitrarily small\n",
    "# and that it is Not possible to transmit at an Average rate greater than C/H\n",
    "\n",
    "# The shannon limit is a rate of 1(b/sec)/2.584(b/sym) = 0.386 sym/sec"
   ]
  },
  {
   "cell_type": "code",
   "execution_count": 52,
   "metadata": {},
   "outputs": [
    {
     "name": "stdout",
     "output_type": "stream",
     "text": [
      "emax 0.861654, num_die 1, L 3.000000 ibits/sym, Shannon 2.584963 ibits/sym, rate 0.333333 sym/sec\n",
      "emax 0.969361, num_die 3, L 2.666667 ibits/sym, Shannon 2.584963 ibits/sym, rate 0.375000 sym/sec\n",
      "emax 0.994216, num_die 5, L 2.600000 ibits/sym, Shannon 2.584963 ibits/sym, rate 0.384615 sym/sec\n",
      "emax 0.998736, num_die 17, L 2.588235 ibits/sym, Shannon 2.584963 ibits/sym, rate 0.386364 sym/sec\n"
     ]
    }
   ],
   "source": [
    "# We'll try various encodings to try and get a maximum efficiency.\n",
    "# Here, a die roll is a 'symbol' and by default gets\n",
    "C = 1.0 #binary digit/second\n",
    "Rmax = C/h1\n",
    "\n",
    "emax = 0\n",
    "for num_die in range(1,24):\n",
    "    values = 6**num_die\n",
    "    bits = np.ceil(np.log2(values))\n",
    "    #print (values, Lbits, num_die/Lbits)\n",
    "    L = bits/num_die\n",
    "    eff = h/L\n",
    "    if eff > emax:\n",
    "        emax = eff\n",
    "        die = num_die\n",
    "        Lmax = L\n",
    "        rt = 1/Lmax\n",
    "        print(\"emax {:1f}, num_die {}, L {:1f} ibits/sym, Shannon {:1f} ibits/sym, rate {:1f} sym/sec\".format(emax,die,Lmax,h,rt))\n",
    "\n",
    "    "
   ]
  },
  {
   "cell_type": "markdown",
   "metadata": {},
   "source": [
    "# Huffman Coding"
   ]
  },
  {
   "cell_type": "code",
   "execution_count": null,
   "metadata": {
    "collapsed": true
   },
   "outputs": [],
   "source": [
    "# I should here insert the code to do huffman coding. It is a cool coding technique that will encode data\n",
    "# such that the symbols with the highest probabiliy will have the smallest encoding.\n",
    "# further, it is a Prefix code. This says that each symbol has a unique prefix so I do not need a delimiter\n",
    "# between symbols. cool. Also, lossless."
   ]
  }
 ],
 "metadata": {
  "kernelspec": {
   "display_name": "Python 3",
   "language": "python",
   "name": "python3"
  },
  "language_info": {
   "codemirror_mode": {
    "name": "ipython",
    "version": 3
   },
   "file_extension": ".py",
   "mimetype": "text/x-python",
   "name": "python",
   "nbconvert_exporter": "python",
   "pygments_lexer": "ipython3",
   "version": "3.6.1"
  }
 },
 "nbformat": 4,
 "nbformat_minor": 2
}
